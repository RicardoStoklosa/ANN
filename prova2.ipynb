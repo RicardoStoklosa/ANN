{
 "metadata": {
  "language_info": {
   "codemirror_mode": {
    "name": "ipython",
    "version": 3
   },
   "file_extension": ".py",
   "mimetype": "text/x-python",
   "name": "python",
   "nbconvert_exporter": "python",
   "pygments_lexer": "ipython3",
   "version": "3.9.0-final"
  },
  "orig_nbformat": 2,
  "kernelspec": {
   "name": "python3",
   "display_name": "Python 3.9.0 64-bit",
   "metadata": {
    "interpreter": {
     "hash": "b1f75d9cf3bf3487dfbcca90c8ff57e73ad2e3e269336f1cc68c99058d131e9d"
    }
   }
  }
 },
 "nbformat": 4,
 "nbformat_minor": 2,
 "cells": [
  {
   "cell_type": "code",
   "execution_count": 3,
   "metadata": {},
   "outputs": [],
   "source": [
    "from interpolation import *\n",
    "from integral import *\n",
    "from sympy import Lambda, sqrt, cos, exp, pi, log, var,init_printing, simplify, sinh, sin, sympify, expand, lambdify"
   ]
  },
  {
   "source": [
    "### Interpolation "
   ],
   "cell_type": "markdown",
   "metadata": {}
  },
  {
   "cell_type": "code",
   "execution_count": null,
   "metadata": {},
   "outputs": [],
   "source": [
    "points = (0.436,4.416), (1.529,4.921), (2.046,4.75), (2.683,4.203), (3.789,2.918), (4.088,2.632), (5.124,2.208), (5.753,2.391), (6.803,2.954)\n",
    "\n",
    "x = [i[0] for i in points]\n",
    "y = [i[1] for i in points]\n",
    "eq = lagrange_func(x, y)\n",
    "\n",
    "expand(sympify(eq))"
   ]
  },
  {
   "cell_type": "code",
   "execution_count": null,
   "metadata": {},
   "outputs": [],
   "source": [
    "points = (0.156,4.155), (1.062,4.836), (2.03,4.759), (2.653,4.235), (3.176,3.629), (3.715,2.997), (4.813,2.233)\n",
    "\n",
    "x = [i[0] for i in points]\n",
    "y = [i[1] for i in points]\n",
    "eq = lagrange(x, y)"
   ]
  },
  {
   "cell_type": "code",
   "execution_count": null,
   "metadata": {},
   "outputs": [],
   "source": [
    "exp = \"4 + sin(x) - ((x**2)/30)\"\n",
    "f = lambdify(\"x\", sympify(exp))\n",
    "\n",
    "x = [0.789, 1.31, 3.289, 3.796, 5.154, 6.749]\n",
    "eq = runge(f, x, False)\n",
    "\n",
    "expand(sympify(eq))"
   ]
  },
  {
   "cell_type": "code",
   "execution_count": null,
   "metadata": {},
   "outputs": [],
   "source": [
    "points = (0.478,4.452), (1.457,4.923), (2.413,4.472), (2.846,4.021), (3.662,3.056), (4.837,2.228), (5.521,2.293), (6.583,2.851)\n",
    "\n",
    "x = [i[0] for i in points]\n",
    "y = [i[1] for i in points]\n",
    "eq = coeficiente(x,y)\n",
    "# expand(sympify(eq))"
   ]
  },
  {
   "cell_type": "code",
   "execution_count": null,
   "metadata": {},
   "outputs": [],
   "source": [
    "x = [-3.747, -3.222, -2.431, -1.695, -1.194, -0.325, 0.12, 0.944, 1.71, 2.657, 2.957, 3.797]\n",
    "y = [4.101, 3.734, 3.151, 2.912, 3.023, 3.677, 4.119, 4.78, 4.893, 4.231, 3.892, 2.91]\n",
    "\n",
    "spline(x, y)"
   ]
  },
  {
   "cell_type": "code",
   "execution_count": null,
   "metadata": {},
   "outputs": [],
   "source": [
    "def f(x):\n",
    "    return exp(-1*pow(x,2))\n",
    "\n",
    "interval = [-0.534, 1.186]\n",
    "sub = [2, 4, 8, 18, 42, 70, 132, 276, 552, 1096]\n",
    "\n",
    "trapezoide(f, interval, sub)"
   ]
  },
  {
   "cell_type": "code",
   "execution_count": 4,
   "metadata": {},
   "outputs": [
    {
     "output_type": "stream",
     "name": "stdout",
     "text": [
      "1.31682582999324\n",
      "1.29155152005583\n",
      "1.29072700379037\n",
      "1.29067875598845\n",
      "1.29067690291610\n",
      "1.29067684683451\n",
      "1.29067683914951\n",
      "1.29067683852423\n",
      "1.29067683849187\n",
      "1.29067683848985\n"
     ]
    }
   ],
   "source": [
    "from scipy import integrate\n",
    "\n",
    "def f(x):\n",
    "    return exp(-1*pow(x,2))\n",
    "\n",
    "interval = [-0.534, 1.186]\n",
    "sub = [2, 4, 8, 18, 42, 70, 132, 276, 552, 1096]\n",
    "\n",
    "simpson(f, interval, sub)\n"
   ]
  },
  {
   "cell_type": "code",
   "execution_count": 15,
   "metadata": {},
   "outputs": [
    {
     "output_type": "execute_result",
     "data": {
      "text/plain": [
       "0.19590881946808245"
      ]
     },
     "metadata": {},
     "execution_count": 15
    }
   ],
   "source": [
    "def romberg_func( f, a, b, n ):\n",
    "    r = np.array( [[0] * (n+1)] * (n+1), float )\n",
    "    h = b - a\n",
    "    r[0,0] = 0.5 * h * ( f( a ) + f( b ) )\n",
    "\n",
    "    powerOf2 = 1\n",
    "    for i in range( 1, n + 1 ):\n",
    "        h = 0.5 * h\n",
    "\n",
    "        sum = 0.0\n",
    "        powerOf2 = 2 * powerOf2\n",
    "        for k in range( 1, powerOf2, 2 ):\n",
    "            sum = sum + f( a + k * h )\n",
    "\n",
    "        r[i,0] = 0.5 * r[i-1,0] + sum * h\n",
    "\n",
    "        powerOf4 = 1\n",
    "        for j in range( 1, i + 1 ):\n",
    "            powerOf4 = 4 * powerOf4\n",
    "            r[i,j] = r[i,j-1] + ( r[i,j-1] - r[i-1,j-1] ) / ( powerOf4 - 1 )\n",
    "\n",
    "    return r\n",
    "\n",
    "a = 0.846\n",
    "b = 1.846\n",
    "\n",
    "def f(x):\n",
    "    return exp(-1*pow(x,2))\n",
    "\n",
    "romberg(f, a, b, 1)[1][1]"
   ]
  },
  {
   "cell_type": "code",
   "execution_count": null,
   "metadata": {},
   "outputs": [],
   "source": []
  }
 ]
}