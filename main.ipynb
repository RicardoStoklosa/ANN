{
 "metadata": {
  "language_info": {
   "codemirror_mode": {
    "name": "ipython",
    "version": 3
   },
   "file_extension": ".py",
   "mimetype": "text/x-python",
   "name": "python",
   "nbconvert_exporter": "python",
   "pygments_lexer": "ipython3",
   "version": "3.9.0-final"
  },
  "orig_nbformat": 2,
  "kernelspec": {
   "name": "python3",
   "display_name": "Python 3.9.0 64-bit",
   "metadata": {
    "interpreter": {
     "hash": "b1f75d9cf3bf3487dfbcca90c8ff57e73ad2e3e269336f1cc68c99058d131e9d"
    }
   }
  }
 },
 "nbformat": 4,
 "nbformat_minor": 2,
 "cells": [
  {
   "cell_type": "code",
   "execution_count": 2,
   "metadata": {},
   "outputs": [],
   "source": [
    "from sympy import Lambda, sqrt, cos, exp, pi, log\n",
    "from aproximation import *\n",
    "from sympy.abc import x"
   ]
  },
  {
   "cell_type": "code",
   "execution_count": 9,
   "metadata": {},
   "outputs": [],
   "source": [
    "f1 = Lambda(x, x ** 2 - 7)\n",
    "f2 = Lambda(x, sqrt(x) - cos(x))\n",
    "f3 = Lambda(x, 2 * (x + 1) * (x - 0.5) * (x - 1))\n",
    "f4 = Lambda(x, x ** 3 - 7 * x ** 2 + 14 * x - 7)\n",
    "f5 = Lambda(x, x - 2 ** -x)\n",
    "f6 = Lambda(x, exp(x) - 2 * x ** 2 + x - 1.5)\n",
    "f7 = Lambda(x, x * cos(x) - 3 * x ** 2 + 4 * x - 1)\n",
    "f8 = Lambda(x, pi * x - exp(x))\n",
    "f9 = Lambda(x, x ** 2 - 4 * x + 2 - log(x))\n",
    "f10 = Lambda(x, x ** 4 - 2 * x ** 3 - 3 * x ** 2 + 3 * x + 2)"
   ]
  },
  {
   "cell_type": "code",
   "execution_count": 14,
   "metadata": {},
   "outputs": [
    {
     "output_type": "stream",
     "name": "stdout",
     "text": [
      "3.067622155544\n3.678545922357\n3.876595373113\n3.825946539837\n"
     ]
    }
   ],
   "source": [
    "\n"
   ]
  }
 ]
}