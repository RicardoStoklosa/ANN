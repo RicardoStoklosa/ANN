{
 "metadata": {
  "language_info": {
   "codemirror_mode": {
    "name": "ipython",
    "version": 3
   },
   "file_extension": ".py",
   "mimetype": "text/x-python",
   "name": "python",
   "nbconvert_exporter": "python",
   "pygments_lexer": "ipython3",
   "version": "3.9.0-final"
  },
  "orig_nbformat": 2,
  "kernelspec": {
   "name": "python3",
   "display_name": "Python 3.9.0 64-bit",
   "metadata": {
    "interpreter": {
     "hash": "b1f75d9cf3bf3487dfbcca90c8ff57e73ad2e3e269336f1cc68c99058d131e9d"
    }
   }
  }
 },
 "nbformat": 4,
 "nbformat_minor": 2,
 "cells": [
  {
   "cell_type": "code",
   "execution_count": 1,
   "metadata": {},
   "outputs": [],
   "source": [
    "from sympy import Lambda, sqrt, cos, exp, pi, log, var,init_printing, simplify, sinh, sin\n",
    "from aproximation import *\n",
    "from linear_system import *\n",
    "from sympy.abc import x,t,l,h,w"
   ]
  },
  {
   "cell_type": "code",
   "execution_count": 2,
   "metadata": {},
   "outputs": [],
   "source": [
    "f1 = Lambda(x, x ** 2 - 7)\n",
    "f2 = Lambda(x, sqrt(x) - cos(x))\n",
    "f3 = Lambda(x, 2 * (x + 1) * (x - 0.5) * (x - 1))\n",
    "f4 = Lambda(x, x ** 3 - 7 * x ** 2 + 14 * x - 7)\n",
    "f5 = Lambda(x, x - 2 ** -x)\n",
    "f6 = Lambda(x, exp(x) - 2 * x ** 2 + x - 1.5)\n",
    "f7 = Lambda(x, x * cos(x) - 3 * x ** 2 + 4 * x - 1)\n",
    "f8 = Lambda(x, pi * x - exp(x))\n",
    "f9 = Lambda(x, x ** 2 - 4 * x + 2 - log(x))\n",
    "f10 = Lambda(x, x ** 4 - 2 * x ** 3 - 3 * x ** 2 + 3 * x + 2)"
   ]
  },
  {
   "cell_type": "code",
   "execution_count": 3,
   "metadata": {},
   "outputs": [
    {
     "output_type": "stream",
     "name": "stdout",
     "text": [
      "-0.81239174353347\n-0.93132686000732\n-1.01416870178508\n-1.01401393953695\n-1.01401408511248\n-1.01401408511275\n-1.01401408511275\n-1.01401408511275\nnan\nnan\n"
     ]
    },
    {
     "output_type": "execute_result",
     "data": {
      "text/plain": [
       "            4.905⋅(-sin(w) + sinh(w))\n",
       "w ↦ -1.66 - ─────────────────────────\n",
       "                         2           \n",
       "                        w            "
      ],
      "text/latex": "$\\displaystyle \\left( w \\mapsto -1.66 - \\frac{4.905 \\left(- \\sin{\\left(w \\right)} + \\sinh{\\left(w \\right)}\\right)}{w^{2}} \\right)$"
     },
     "metadata": {},
     "execution_count": 3
    }
   ],
   "source": [
    "init_printing()\n",
    "G = 9.81\n",
    "X = 1.66\n",
    "f=Lambda(w, -(G/(2*w**2))*(sinh(w)-sin(w))-X)\n",
    "secc(f, [-0.5,-4.63] )\n",
    "f\n",
    "# f(2)"
   ]
  },
  {
   "cell_type": "code",
   "execution_count": 4,
   "metadata": {},
   "outputs": [
    {
     "output_type": "stream",
     "name": "stdout",
     "text": [
      "[ 0.0974940014898157 -0.8152272293455405 -0.9336776657602636\n -0.5883231244549851 -0.3166706363409588]\n[ 0.1960586620063244 -0.0442851857272787  0.1496949425775266\n  0.249371357196007   0.3140500858204427]\n[-0.1437765081629145 -0.3596709705884901 -0.1642004615614225\n  0.091581903697457   0.1015107186093686]\n[ 0.0026089407814472 -0.1897428275727086 -0.0376255773815753\n  0.0610678521843527  0.0642122712783293]\n[-0.0709671228694885 -0.210180949052946  -0.0275514693194534\n  0.1051243768564846  0.0888006631218105]\n[-0.0613693635738445 -0.2044492260382902 -0.0338508775203025\n  0.0799711325571107  0.0622496387574444]\n[-0.0633235997499503 -0.1954847720283935 -0.0213021407951909\n  0.0889267397458987  0.0678996334626092]\n"
     ]
    }
   ],
   "source": [
    "a, b, guess =  ( [[10.33685, 2.74547, 2.20759, -2.3275, 1.51306], [1.34868, 5.26908, -0.06164, 0.65313, 1.66241], [1.64662, -1.00091, 8.87758, 2.12537, 2.56146], [-1.8839, -2.61576, 2.59803, 10.22908, 1.58817], [-1.91286, -1.21263, 2.44996, -0.01696, 7.13564]],  [-1.38255, -0.95499, 0.24389, 1.57096, 0.76553],  [-1.79192, -0.31429, -0.30546, 2.07943, 2.63489])\n",
    "\n",
    "jacobi(a,b,guess)"
   ]
  },
  {
   "cell_type": "code",
   "execution_count": 6,
   "metadata": {},
   "outputs": [
    {
     "output_type": "stream",
     "name": "stdout",
     "text": [
      "[ 0.3233150543149899 -0.6802752570469627 -0.4917509321424485]\n"
     ]
    }
   ],
   "source": [
    "a = [[3.37543, -0.52427, -1.78424], [-1.44814, -3.27374, -0.75867], [1.36718, -2.46303, 4.89713]]\n",
    "b =  [2.32621, 2.13218, -0.2906]\n",
    "guess =  [2.95421, 0.86466, -1.32144]\n",
    "\n",
    "seidel(a,b,guess, 12)"
   ]
  },
  {
   "cell_type": "code",
   "execution_count": null,
   "metadata": {},
   "outputs": [],
   "source": []
  }
 ]
}